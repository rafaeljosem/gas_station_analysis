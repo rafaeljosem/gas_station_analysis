{
 "cells": [
  {
   "cell_type": "code",
   "execution_count": 1,
   "metadata": {},
   "outputs": [],
   "source": [
    "import pandas\n",
    "from pypdf import PdfReader, PdfWriter\n",
    "from pypdf.errors import PdfStreamError\n",
    "from ocrmypdf.exceptions import SubprocessOutputError\n",
    "import os\n",
    "import ocrmypdf\n",
    "from tqdm import tqdm\n",
    "from IPython.display import clear_output\n",
    "import json\n",
    "from unidecode import unidecode\n",
    "import re\n",
    "import traceback\n",
    "from collections import defaultdict"
   ]
  },
  {
   "cell_type": "code",
   "execution_count": 4,
   "metadata": {},
   "outputs": [],
   "source": [
    "skip_files = []\n",
    "files_with_error = []\n",
    "processed_files = []\n",
    "\n",
    "raw_dir = './files/raw'\n",
    "tmp_dir = './files/tmp'\n",
    "output_dir = './files/ocr_address'\n",
    "json_dir = './files/json'\n",
    "sample_dir = './files/sample'\n",
    "log_dir = './var'"
   ]
  },
  {
   "cell_type": "code",
   "execution_count": null,
   "metadata": {},
   "outputs": [],
   "source": [
    "for dirname in [raw_dir, tmp_dir, output_dir, json_dir, log_dir]:\n",
    "    if not os.path.exists(dirname):\n",
    "        os.makedirs(dirname)"
   ]
  },
  {
   "cell_type": "code",
   "execution_count": 3,
   "metadata": {},
   "outputs": [
    {
     "name": "stderr",
     "output_type": "stream",
     "text": [
      "/Prev=0 in the trailer - assuming there is no previous xref table\n",
      "/Prev=0 in the trailer - assuming there is no previous xref table\n",
      "/Prev=0 in the trailer - assuming there is no previous xref table\n",
      "/Prev=0 in the trailer - assuming there is no previous xref table\n",
      "/Prev=0 in the trailer - assuming there is no previous xref table\n",
      "/Prev=0 in the trailer - assuming there is no previous xref table\n",
      "/Prev=0 in the trailer - assuming there is no previous xref table\n",
      "/Prev=0 in the trailer - assuming there is no previous xref table\n",
      "/Prev=0 in the trailer - assuming there is no previous xref table\n",
      "/Prev=0 in the trailer - assuming there is no previous xref table\n",
      "/Prev=0 in the trailer - assuming there is no previous xref table\n",
      "/Prev=0 in the trailer - assuming there is no previous xref table\n",
      "/Prev=0 in the trailer - assuming there is no previous xref table\n",
      "/Prev=0 in the trailer - assuming there is no previous xref table\n",
      "/Prev=0 in the trailer - assuming there is no previous xref table\n",
      "/Prev=0 in the trailer - assuming there is no previous xref table\n",
      "/Prev=0 in the trailer - assuming there is no previous xref table\n",
      "/Prev=0 in the trailer - assuming there is no previous xref table\n",
      "/Prev=0 in the trailer - assuming there is no previous xref table\n",
      "/Prev=0 in the trailer - assuming there is no previous xref table\n",
      "/Prev=0 in the trailer - assuming there is no previous xref table\n",
      "/Prev=0 in the trailer - assuming there is no previous xref table\n",
      "/Prev=0 in the trailer - assuming there is no previous xref table\n",
      "/Prev=0 in the trailer - assuming there is no previous xref table\n",
      "/Prev=0 in the trailer - assuming there is no previous xref table\n",
      "/Prev=0 in the trailer - assuming there is no previous xref table\n",
      "/Prev=0 in the trailer - assuming there is no previous xref table\n",
      "/Prev=0 in the trailer - assuming there is no previous xref table\n",
      "/Prev=0 in the trailer - assuming there is no previous xref table\n",
      "/Prev=0 in the trailer - assuming there is no previous xref table\n",
      "/Prev=0 in the trailer - assuming there is no previous xref table\n",
      "/Prev=0 in the trailer - assuming there is no previous xref table\n",
      "/Prev=0 in the trailer - assuming there is no previous xref table\n",
      "/Prev=0 in the trailer - assuming there is no previous xref table\n",
      "/Prev=0 in the trailer - assuming there is no previous xref table\n",
      "/Prev=0 in the trailer - assuming there is no previous xref table\n",
      "/Prev=0 in the trailer - assuming there is no previous xref table\n",
      "/Prev=0 in the trailer - assuming there is no previous xref table\n",
      "/Prev=0 in the trailer - assuming there is no previous xref table\n",
      "/Prev=0 in the trailer - assuming there is no previous xref table\n",
      "/Prev=0 in the trailer - assuming there is no previous xref table\n",
      "/Prev=0 in the trailer - assuming there is no previous xref table\n",
      "/Prev=0 in the trailer - assuming there is no previous xref table\n",
      "/Prev=0 in the trailer - assuming there is no previous xref table\n",
      "/Prev=0 in the trailer - assuming there is no previous xref table\n",
      "/Prev=0 in the trailer - assuming there is no previous xref table\n",
      "/Prev=0 in the trailer - assuming there is no previous xref table\n",
      "/Prev=0 in the trailer - assuming there is no previous xref table\n",
      "/Prev=0 in the trailer - assuming there is no previous xref table\n",
      "/Prev=0 in the trailer - assuming there is no previous xref table\n",
      "/Prev=0 in the trailer - assuming there is no previous xref table\n",
      "/Prev=0 in the trailer - assuming there is no previous xref table\n",
      "/Prev=0 in the trailer - assuming there is no previous xref table\n",
      "/Prev=0 in the trailer - assuming there is no previous xref table\n",
      "/Prev=0 in the trailer - assuming there is no previous xref table\n",
      "/Prev=0 in the trailer - assuming there is no previous xref table\n",
      "/Prev=0 in the trailer - assuming there is no previous xref table\n",
      "/Prev=0 in the trailer - assuming there is no previous xref table\n",
      "/Prev=0 in the trailer - assuming there is no previous xref table\n",
      "/Prev=0 in the trailer - assuming there is no previous xref table\n",
      "/Prev=0 in the trailer - assuming there is no previous xref table\n",
      "/Prev=0 in the trailer - assuming there is no previous xref table\n",
      "/Prev=0 in the trailer - assuming there is no previous xref table\n"
     ]
    }
   ],
   "source": [
    "for name in os.listdir(raw_dir):\n",
    "    src = os.path.join(raw_dir, name)\n",
    "    reader = PdfReader(src)\n",
    "        \n",
    "    if len(reader.pages) <= 4:\n",
    "        skip_files.append(name)\n",
    "        continue\n",
    "    \n",
    "    dest = os.path.join(tmp_dir, name)\n",
    "    \n",
    "    #Extraer la penúltima página, donde se encuentra la dirección de la estación\n",
    "    \n",
    "    with open (os.path.join(tmp_dir, name), 'wb') as f:\n",
    "        writer = PdfWriter(f)\n",
    "        writer.add_page(reader.pages[reader.get_num_pages()-2])\n",
    "        writer.write(dest)"
   ]
  },
  {
   "cell_type": "code",
   "execution_count": 29,
   "metadata": {},
   "outputs": [],
   "source": [
    "def extract_address(file: PdfReader) -> str|None:\n",
    "    pattern = r'E/S\\s+(.*?)(?=\\n(?:Precios|\\*recios|MEDICIÓN|COMPARACIÓN|PROCESO|VISTA|MUESTRAS|TANQUES|SERVICIO|$))'\n",
    "    page = file.pages[0]\n",
    "    # for page in file.pages:\n",
    "    page_text = page.extract_text()\n",
    "    match = re.search(pattern, page_text, re.DOTALL)\n",
    "    \n",
    "    if match:\n",
    "       return match.group(1)\n",
    "    else:\n",
    "        return None\n",
    "    \n"
   ]
  },
  {
   "cell_type": "code",
   "execution_count": 30,
   "metadata": {},
   "outputs": [],
   "source": [
    "no_match = []\n",
    "matches = []\n",
    "for name in os.listdir(output_dir):\n",
    "    file = PdfReader(os.path.join(output_dir, name))\n",
    "    address = extract_address(file)\n",
    "    \n",
    "    if address is None:\n",
    "        no_match.append(name)\n",
    "        continue\n",
    "    matches.append({'file': name, 'address': address})\n",
    "        \n",
    "    "
   ]
  },
  {
   "cell_type": "code",
   "execution_count": 31,
   "metadata": {},
   "outputs": [
    {
     "data": {
      "text/plain": [
       "657"
      ]
     },
     "execution_count": 31,
     "metadata": {},
     "output_type": "execute_result"
    }
   ],
   "source": [
    "len(matches)"
   ]
  },
  {
   "cell_type": "code",
   "execution_count": 32,
   "metadata": {},
   "outputs": [
    {
     "data": {
      "text/plain": [
       "['2023 03 140.pdf',\n",
       " '2023 06 005.pdf',\n",
       " '2023 05 065.pdf',\n",
       " '2023 08 047.pdf',\n",
       " '2023 05 064.pdf']"
      ]
     },
     "execution_count": 32,
     "metadata": {},
     "output_type": "execute_result"
    }
   ],
   "source": [
    "no_match[:5]"
   ]
  },
  {
   "cell_type": "code",
   "execution_count": 36,
   "metadata": {},
   "outputs": [
    {
     "data": {
      "text/plain": [
       "[{'file': '2023 05 105.pdf',\n",
       "  'address': 'NEXT NUEVOSOL\\nAV. JACOBO  MAJLUTA+F14,  SANTO DOMINGO  NORTE'},\n",
       " {'file': '2023 03 034.pdf',\n",
       "  'address': 'TEXACO PABLO  ILSECARRETERA  MOCASAN  VICTOR  CRUCE  ESTANCIA  NUEVA  MOCA,  PROVINCIA  ESPAILLATq¿_ _ _ A\\nsi\\nRD$29360 RD$27450\\nPapa\\nRDS24110. — RDS2216'},\n",
       " {'file': '2023 03 008.pdf',\n",
       "  'address': 'SHELL  MABAZ\\nAVENIDA  SANTA  ROSA,  ESQUINA  DUARTE, PROVINCIA  LA ROMANA'},\n",
       " {'file': '2023 08 052.pdf',\n",
       "  'address': 'SHELL  RAE - AUTOPISTA  30 DE MAYO,  KM. 11 1/2, MARENSA.  DISTRITO  NACIONAL'},\n",
       " {'file': '2023 05 071.pdf',\n",
       "  'address': 'ECOPETROLEO  SANTA — CARRETERA  BARAHONA - PARAISO,  LA CIENAGA,  PROVINCIA\\nBARAHONA\\nUT'},\n",
       " {'file': '2023 08 046.pdf',\n",
       "  'address': 'PETROMÓVIL  MERCA\\nKM 20, AUTOPISTA  DUARTE  AL SUR DEL MERCA  SANTO  DOMINGO  — SANTO DOMINGO'},\n",
       " {'file': '2023 05 059.pdf',\n",
       "  'address': 'MEDICIÓN  DEL CORTE  DE AGUA LIBRE  EN LOS'},\n",
       " {'file': '2023 02 025.pdf',\n",
       "  'address': 'TEXACO SAN ANDRES\\nAUTOPISTA  LAS AMERICAS  KIVL 29, SECTOR  ANDRES  BOCA CHICA'},\n",
       " {'file': '2023 02 031.pdf',\n",
       "  'address': 'SHELL  LAS AMÉRICAS  - KM 9 1/2, MARGINAL  DE LAS AMÉRICAS,  LOS FRAILES.OVEPST\\nPRECIOS  PUBLICADOS  POR LA ESTACIÓN  DE'},\n",
       " {'file': '2023 07 148.pdf',\n",
       "  'address': 'PETRONAN  LOS JAZMINEZ\\nAV. YAPUR  DUMIT  ++14, SANTIAGO  DE LOS CABALLEROS,  PROVINCIA  SANTIAGO'},\n",
       " {'file': '2023 02 019.pdf',\n",
       "  'address': 'SUNIX  LAS AMÉRICAS  2- AUTOPISTA  LAS AMÉRICAS  KIVI 23, BOCA CHICA'},\n",
       " {'file': '2023 04 074.pdf',\n",
       "  'address': 'TEXACO WAYNE — CALLE 16 DE AGOSTO ESQUINA  MANUEL ENCARNACIÓN,  OCOA.  SAN JOSÉ OCOA.\\nROSZALO\\nÓptima\\nPRECIOS  PUBLICADOS  POR MICM  / VALLA\\nPUBLICITARIA  DE LA E/SMEDICIÓN  DEL CORTE  DE AGUA LIBRE EN LOS'},\n",
       " {'file': '2023 04 060.pdf',\n",
       "  'address': 'TOTAL  LOS PINOS\\n$5 | Precios delos combustibles Dl al\\nRD$293.60 RD$274,50 N\\nz a 5)\\n| excellium\\n[So | QUART\\nRDS22160 ===/'},\n",
       " {'file': '2023 04 048.pdf',\n",
       "  'address': 'GRUPO SUAREZ-  CALLE OLEGARIO  TENARES N?* 01 — MUNICIPIO  CASTILLO,  PROVINCIA  DUARTE'},\n",
       " {'file': '2023 04 049.pdf',\n",
       "  'address': 'SHELL\\nCASTILLO\\nCALLE  OLEGARIO  TENARES  No.78, CASTILLO  - SAN FRANCISCO  DE MACORÍS,  PROVINCIA  DUARTE\\nRD$221.60\\nGasoil\\nptimo Regula\\nPRECIOS  PUBLICADOS  POR EL MICM'}]"
      ]
     },
     "execution_count": 36,
     "metadata": {},
     "output_type": "execute_result"
    }
   ],
   "source": [
    "matches[10:25]"
   ]
  },
  {
   "cell_type": "code",
   "execution_count": 5,
   "metadata": {},
   "outputs": [
    {
     "name": "stderr",
     "output_type": "stream",
     "text": [
      "Files processed: 100%|██████████| 810/810 [1:53:22<00:00,  8.40s/file]\n"
     ]
    }
   ],
   "source": [
    "import warnings\n",
    "\n",
    "error_files = []\n",
    "warning_files = []\n",
    "\n",
    "for name in tqdm(os.listdir(tmp_dir), unit='file', desc='Files processed: '):\n",
    "    \n",
    "    #Omite los archivos que tienen cuatro páginas o menos\n",
    "    if name in skip_files or os.path.exists(os.path.join(output_dir, name)):\n",
    "        clear_output(wait=True)\n",
    "        continue\n",
    "    \n",
    "    try:\n",
    "        with warnings.catch_warnings(record = True) as w:\n",
    "            \n",
    "            warnings.simplefilter(\"always\")\n",
    "            #Realiza OCR\n",
    "            ocrmypdf.ocr(os.path.join(tmp_dir, name),\n",
    "                    os.path.join(output_dir, name),skip_text=True, language='spa', deskew=True)\n",
    "            if w:\n",
    "                raise w[-1].category(w[-1].message)\n",
    "    \n",
    "    except SubprocessOutputError as error:\n",
    "        error_files.append({'file': name, 'error': error})\n",
    "    \n",
    "    except Warning as e:\n",
    "        warning_files.append({'file': name, 'warning': e})\n",
    "        \n",
    "    clear_output(wait=True)"
   ]
  }
 ],
 "metadata": {
  "kernelspec": {
   "display_name": "octane_project_env",
   "language": "python",
   "name": "python3"
  },
  "language_info": {
   "codemirror_mode": {
    "name": "ipython",
    "version": 3
   },
   "file_extension": ".py",
   "mimetype": "text/x-python",
   "name": "python",
   "nbconvert_exporter": "python",
   "pygments_lexer": "ipython3",
   "version": "3.11.3"
  }
 },
 "nbformat": 4,
 "nbformat_minor": 2
}
