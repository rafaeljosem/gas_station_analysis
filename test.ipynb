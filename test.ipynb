{
 "cells": [
  {
   "cell_type": "code",
   "execution_count": 10,
   "metadata": {},
   "outputs": [],
   "source": [
    "from pypdf import PdfReader, PdfWriter\n",
    "import os"
   ]
  },
  {
   "cell_type": "code",
   "execution_count": 8,
   "metadata": {},
   "outputs": [
    {
     "name": "stdout",
     "output_type": "stream",
     "text": [
      "Case 1 match: ATLANTIC  PETROLEUM  BONAO  | _\n",
      "AVENIDA  ANIANA  | ESQUINA  PADRE  BILLINI,  BONAO,  PROVINCIA  MONSEÑOL  NOUEL\n",
      "Case 2 match: TEXACO  CHACHACES.  AV. JUAN PABLO DUARTE, ESQUINA INDEPENDENCIA—  PROVINCIA  SANTIAGO\n",
      "Case 3 match: SHELL NIZAO\n",
      "C/ JUAN PABLO  DUARTE  No.101,  DON GREGORIO  - NIZAO\n",
      "Case 4 match: TOTAL CENTAURO  —AV. DUARTE  ESQ. ANIBAL ESPINOSA\n",
      "dl\n"
     ]
    }
   ],
   "source": [
    "import re\n",
    "\n",
    "pattern = r'E/S\\s+(.*?)(?=\\n(?:Precios|\\*recios|MEDICIÓN|COMPARACIÓN|PROCESO|VISTA|MUESTRAS|TANQUES|SERVICIO|$))'\n",
    "\n",
    "# Test cases\n",
    "cases = [\n",
    "    'AIVEPET,  S.R.L—  REP. DOMINICANA\\nReporte  Fotográfico\\nRef. AIVEPET:  202307  014Fecha de Inspección:  04/07/2023\\nE/S ATLANTIC  PETROLEUM  BONAO  | _\\nAVENIDA  ANIANA  | ESQUINA  PADRE  BILLINI,  BONAO,  PROVINCIA  MONSEÑOL  NOUEL\\nMEDICIÓN  DEL CORTE  DE AGUA  LIBRE  EN LOS\\nTANQUES  DE ALMACENAMIENTO\\n03 de tos combo\\nRD$29160 RD$273,50\\nRD$23710 RD$220.60\\nCOMPARACIÓN  DE PRECIOSPUBLICADOSPOR PROCESO  DE TOMA  DE MUESTRAS  EN LOS\\nMICM VS LOS PUBLICADOS  POR LA E/S TANQUES  DE ALMACENAMIENTO:\\nIi IAN da\\nN* DE SELLO  DE LAS MUESTRAS  RETENIDAS VISTA  PANORÁMICA  DE LA ESTACIÓN  DE\\nSERVICIO\\n',\n",
    "    \n",
    "    'AVEPET,  S.RL—REP.DOMINICANA\\nReporte  Fotográfico\\nE Ref.  AIVEPET:202307028\\nalvepst Fecha de Inspección:  06/07/2023\\nE/S TEXACO  CHACHACES.  AV. JUAN PABLO DUARTE, ESQUINA INDEPENDENCIA—  PROVINCIA  SANTIAGO\\nPrecios de los combustibles\\nRO$291.60 RDS273,50\\nRD$23710 RD$220.60\\nCOMPARACIÓN  DE PRECIOS  PUBLICADOS  POR\\nMICM  VS LOS PUBLICADOS  POR LA E/S\" MEDICIÓN  DEL CORTE  DE AGUA LIBRE EN LOS\\nTANQUES  DE ALMACENAMIENTO\\nMEDICIÓN  DEL CORTE  DE AGUA LIBRE EN LOS\\nTANQUES  DE ALMACENAMIENTO- MEDICIÓN  DEL CORTE  DE AGUA LIBR!e ES\\nEENLOS\\nTANQUES  DE ALMACENAMIENTO\\nVISTA  PANORÁMICA  DE LA ESTACIÓN  DE\\nSERVICIO\\n',\n",
    "    \n",
    "    'AINVEPET,  S.RL  — REP. DOMINICANA\\nReporte  Fotográfico\\nRef. AVEPET:  2023 04 100\\nFecha  de Inspección:  29/4/2023\\nE/S SHELL NIZAO\\nC/ JUAN PABLO  DUARTE  No.101,  DON GREGORIO  - NIZAO\\n*recios  de los commbtistibles\\nRDIDSP2=33.6\\naliceSETAA  RÁ La DEL A DE AAAWL = cs PALA AZ\\nROS -74.50\\n— aro  lin\\nRD+$221.60\\nCOMPARACIÓN  DE PRECIOS  PUBLICADOS  POR\\nMICM VS LOS NO PUBLICADOS  POR LA E/S\\nMEDICIÓN  DEL CORTE  DE AGUA EN LOS\\nTANQUES  DE ALMACENAMIENTOPROCESO  DE MUESTREO  DE LOS TANQUES  DE\\nALMACENAMIENTO\\nVISTA PANORÁMICA  DE LA ESTACIÓN  DE\\nSERVICIO\\n',\n",
    "\n",
    "    'o] AIVEPET,  S.R.L — REP. DOMINICANA\\nReporte  FotográficoE Ref. AIVEPET:  2023 04.061\\naivepet Fecha de Inspección:  20/04/2023\\nE/S TOTAL CENTAURO  —AV. DUARTE  ESQ. ANIBAL ESPINOSA\\ndl\\nSERVICIO\\nTANQUES  DE A\\nMUSSTRAS  Y N* SELLO  DE LAS MUESTRAS NUMERO  DE SELLO  DE LAS MUESTRAS\\nRETE!/D243  EN EL LABORATORIO  DE AIVE TESTIGO\\n'\n",
    "]\n",
    "\n",
    "\n",
    "for i, case in enumerate(cases, 1):\n",
    "    match = re.search(pattern, case, re.DOTALL)\n",
    "    if match:\n",
    "        print(f\"Case {i} match: {match.group(1)}\")\n",
    "    else:\n",
    "        print(f\"Case {i}: No match found\")"
   ]
  },
  {
   "cell_type": "code",
   "execution_count": 11,
   "metadata": {},
   "outputs": [],
   "source": [
    "output_dir = './files/ocr_address'"
   ]
  },
  {
   "cell_type": "code",
   "execution_count": 14,
   "metadata": {},
   "outputs": [
    {
     "name": "stdout",
     "output_type": "stream",
     "text": [
      "ANVEPET,  S.R.L—REP.  DOMINICANA\n",
      "ReporteFotográfico\n",
      "Ref. AIVEPET:  202303  168\n",
      "Fecha  de Inspección:  30/03/2023\n",
      "E/SSUNIXNIBAJE\n",
      "12, SANTIAGODELOSCABALLEROS AV.C\n",
      "á Precios delos combustibles\n",
      "RO$22360 — RDS27450\n",
      "a.\n",
      "ROS241JO — ROS22160\n",
      "VISTA PANORÁMICA  DE LA ESTACIÓN  DE COMPARACIÓN  DE PRECIOS  PUBLICADOS  POR\n",
      "SERVICIO MICM VS LOS PUBLICADOS  POR LA E/S\n",
      ", PROCESO  DE MUESTREO  DE LOS TANQUES  DE\n",
      "MEDICIÓN  DEL CORTE  DE AGUA LIBRE EN LOS ALMACENAMIENTO\n",
      "TANQUES  DE ALMACENAMIENTO\n",
      "\n"
     ]
    }
   ],
   "source": [
    "name = '2023 03 168.pdf'\n",
    "file = PdfReader(os.path.join(output_dir, name))\n",
    "print(file.pages[0].extract_text())"
   ]
  }
 ],
 "metadata": {
  "kernelspec": {
   "display_name": "octane_project_env",
   "language": "python",
   "name": "python3"
  },
  "language_info": {
   "codemirror_mode": {
    "name": "ipython",
    "version": 3
   },
   "file_extension": ".py",
   "mimetype": "text/x-python",
   "name": "python",
   "nbconvert_exporter": "python",
   "pygments_lexer": "ipython3",
   "version": "3.11.3"
  }
 },
 "nbformat": 4,
 "nbformat_minor": 2
}
